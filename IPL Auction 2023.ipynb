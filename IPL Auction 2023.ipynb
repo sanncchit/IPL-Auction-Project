{
 "cells": [
  {
   "cell_type": "markdown",
   "id": "d4a9f34d",
   "metadata": {},
   "source": [
    "## Importing Libraries"
   ]
  },
  {
   "cell_type": "code",
   "execution_count": 1,
   "id": "bb6bfd1c",
   "metadata": {},
   "outputs": [],
   "source": [
    "import numpy as np\n",
    "import pandas as pd\n",
    "import matplotlib.pyplot as plt\n",
    "import seaborn as sns\n",
    "from sklearn.preprocessing import StandardScaler\n",
    "from sklearn.model_selection import train_test_split\n",
    "import statsmodels\n",
    "import statsmodels.api as sm\n",
    "from sklearn.linear_model import LogisticRegression\n",
    "from sklearn import metrics\n",
    "from sklearn.tree import DecisionTreeClassifier\n",
    "from sklearn.ensemble import RandomForestClassifier\n",
    "from sklearn.ensemble import AdaBoostClassifier\n",
    "from xgboost import XGBClassifier\n",
    "from sklearn.model_selection import GridSearchCV"
   ]
  },
  {
   "cell_type": "code",
   "execution_count": 2,
   "id": "db480287",
   "metadata": {},
   "outputs": [],
   "source": [
    "plt.rcParams['figure.figsize'] = [20, 10]"
   ]
  },
  {
   "cell_type": "markdown",
   "id": "f6bf0129",
   "metadata": {},
   "source": [
    "## Importing Dataset"
   ]
  },
  {
   "cell_type": "code",
   "execution_count": 3,
   "id": "b5f9189a",
   "metadata": {},
   "outputs": [
    {
     "data": {
      "text/html": [
       "<div>\n",
       "<style scoped>\n",
       "    .dataframe tbody tr th:only-of-type {\n",
       "        vertical-align: middle;\n",
       "    }\n",
       "\n",
       "    .dataframe tbody tr th {\n",
       "        vertical-align: top;\n",
       "    }\n",
       "\n",
       "    .dataframe thead th {\n",
       "        text-align: right;\n",
       "    }\n",
       "</style>\n",
       "<table border=\"1\" class=\"dataframe\">\n",
       "  <thead>\n",
       "    <tr style=\"text-align: right;\">\n",
       "      <th></th>\n",
       "      <th>name</th>\n",
       "      <th>player style</th>\n",
       "      <th>nationality</th>\n",
       "      <th>base price (in lacs)</th>\n",
       "      <th>final price (in lacs)</th>\n",
       "      <th>franchise</th>\n",
       "      <th>status</th>\n",
       "    </tr>\n",
       "  </thead>\n",
       "  <tbody>\n",
       "    <tr>\n",
       "      <th>0</th>\n",
       "      <td>Harshit Rana</td>\n",
       "      <td>Bowler</td>\n",
       "      <td>India</td>\n",
       "      <td>NaN</td>\n",
       "      <td>20.0</td>\n",
       "      <td>KKR</td>\n",
       "      <td>RETAINED</td>\n",
       "    </tr>\n",
       "    <tr>\n",
       "      <th>1</th>\n",
       "      <td>Ekant Sen</td>\n",
       "      <td>Batter</td>\n",
       "      <td>India</td>\n",
       "      <td>20.0</td>\n",
       "      <td>NaN</td>\n",
       "      <td>NaN</td>\n",
       "      <td>UNSOLD</td>\n",
       "    </tr>\n",
       "    <tr>\n",
       "      <th>2</th>\n",
       "      <td>Wayne Parnell</td>\n",
       "      <td>Allrounder</td>\n",
       "      <td>South Africa</td>\n",
       "      <td>75.0</td>\n",
       "      <td>NaN</td>\n",
       "      <td>NaN</td>\n",
       "      <td>UNSOLD</td>\n",
       "    </tr>\n",
       "    <tr>\n",
       "      <th>3</th>\n",
       "      <td>Shakib Al Hasan</td>\n",
       "      <td>Allrounder</td>\n",
       "      <td>Bangladesh</td>\n",
       "      <td>150.0</td>\n",
       "      <td>150.0</td>\n",
       "      <td>KKR</td>\n",
       "      <td>SOLD</td>\n",
       "    </tr>\n",
       "    <tr>\n",
       "      <th>4</th>\n",
       "      <td>Joe Root</td>\n",
       "      <td>Batter</td>\n",
       "      <td>England</td>\n",
       "      <td>100.0</td>\n",
       "      <td>100.0</td>\n",
       "      <td>RR</td>\n",
       "      <td>SOLD</td>\n",
       "    </tr>\n",
       "  </tbody>\n",
       "</table>\n",
       "</div>"
      ],
      "text/plain": [
       "              name player style   nationality  base price (in lacs)  \\\n",
       "0     Harshit Rana       Bowler         India                   NaN   \n",
       "1        Ekant Sen       Batter         India                  20.0   \n",
       "2    Wayne Parnell   Allrounder  South Africa                  75.0   \n",
       "3  Shakib Al Hasan   Allrounder    Bangladesh                 150.0   \n",
       "4         Joe Root       Batter       England                 100.0   \n",
       "\n",
       "   final price (in lacs) franchise    status  \n",
       "0                   20.0       KKR  RETAINED  \n",
       "1                    NaN       NaN    UNSOLD  \n",
       "2                    NaN       NaN    UNSOLD  \n",
       "3                  150.0       KKR      SOLD  \n",
       "4                  100.0        RR      SOLD  "
      ]
     },
     "execution_count": 3,
     "metadata": {},
     "output_type": "execute_result"
    }
   ],
   "source": [
    "df_ipl = pd.read_csv('iplauction2023.csv')\n",
    "df_ipl.head()"
   ]
  },
  {
   "cell_type": "code",
   "execution_count": 4,
   "id": "2786ac3a",
   "metadata": {},
   "outputs": [
    {
     "data": {
      "text/plain": [
       "(309, 7)"
      ]
     },
     "execution_count": 4,
     "metadata": {},
     "output_type": "execute_result"
    }
   ],
   "source": [
    "df_ipl.shape"
   ]
  },
  {
   "cell_type": "code",
   "execution_count": 5,
   "id": "20af8773",
   "metadata": {},
   "outputs": [
    {
     "data": {
      "text/plain": [
       "name                      object\n",
       "player style              object\n",
       "nationality               object\n",
       "base price (in lacs)     float64\n",
       "final price (in lacs)    float64\n",
       "franchise                 object\n",
       "status                    object\n",
       "dtype: object"
      ]
     },
     "execution_count": 5,
     "metadata": {},
     "output_type": "execute_result"
    }
   ],
   "source": [
    "df_ipl.dtypes"
   ]
  },
  {
   "cell_type": "code",
   "execution_count": 6,
   "id": "15abc351",
   "metadata": {},
   "outputs": [
    {
     "name": "stdout",
     "output_type": "stream",
     "text": [
      "<class 'pandas.core.frame.DataFrame'>\n",
      "RangeIndex: 309 entries, 0 to 308\n",
      "Data columns (total 7 columns):\n",
      " #   Column                 Non-Null Count  Dtype  \n",
      "---  ------                 --------------  -----  \n",
      " 0   name                   309 non-null    object \n",
      " 1   player style           309 non-null    object \n",
      " 2   nationality            309 non-null    object \n",
      " 3   base price (in lacs)   151 non-null    float64\n",
      " 4   final price (in lacs)  238 non-null    float64\n",
      " 5   franchise              238 non-null    object \n",
      " 6   status                 309 non-null    object \n",
      "dtypes: float64(2), object(5)\n",
      "memory usage: 17.0+ KB\n"
     ]
    }
   ],
   "source": [
    "df_ipl.info()"
   ]
  },
  {
   "cell_type": "markdown",
   "id": "f7fea687",
   "metadata": {},
   "source": [
    "## Checking Duplicates"
   ]
  },
  {
   "cell_type": "code",
   "execution_count": 7,
   "id": "30554d76",
   "metadata": {},
   "outputs": [
    {
     "data": {
      "text/plain": [
       "0"
      ]
     },
     "execution_count": 7,
     "metadata": {},
     "output_type": "execute_result"
    }
   ],
   "source": [
    "df_ipl.duplicated().sum()"
   ]
  },
  {
   "cell_type": "markdown",
   "id": "67bc3a54",
   "metadata": {},
   "source": [
    "## Handling Missing Values"
   ]
  },
  {
   "cell_type": "code",
   "execution_count": 8,
   "id": "04a89d7c",
   "metadata": {},
   "outputs": [
    {
     "data": {
      "text/plain": [
       "name                      0.000000\n",
       "player style              0.000000\n",
       "nationality               0.000000\n",
       "base price (in lacs)     51.132686\n",
       "final price (in lacs)    22.977346\n",
       "franchise                22.977346\n",
       "status                    0.000000\n",
       "dtype: float64"
      ]
     },
     "execution_count": 8,
     "metadata": {},
     "output_type": "execute_result"
    }
   ],
   "source": [
    "df_ipl.isnull().sum()/len(df_ipl)*100"
   ]
  },
  {
   "cell_type": "code",
   "execution_count": 9,
   "id": "7c546bd6",
   "metadata": {},
   "outputs": [],
   "source": [
    "df_ipl['base price (in lacs)'] = df_ipl['base price (in lacs)'].fillna(df_ipl['base price (in lacs)'].median())\n",
    "df_ipl['final price (in lacs)'] = df_ipl['final price (in lacs)'].fillna(df_ipl['final price (in lacs)'].median())"
   ]
  },
  {
   "cell_type": "code",
   "execution_count": 10,
   "id": "4d61619c",
   "metadata": {},
   "outputs": [
    {
     "data": {
      "text/plain": [
       "RR      25\n",
       "SRH     25\n",
       "LSG     25\n",
       "CSK     25\n",
       "RCB     25\n",
       "GT      25\n",
       "DC      24\n",
       "MI      23\n",
       "PBKS    22\n",
       "KKR     19\n",
       "Name: franchise, dtype: int64"
      ]
     },
     "execution_count": 10,
     "metadata": {},
     "output_type": "execute_result"
    }
   ],
   "source": [
    "df_ipl['franchise'].value_counts()"
   ]
  },
  {
   "cell_type": "code",
   "execution_count": 11,
   "id": "3856ac10",
   "metadata": {},
   "outputs": [],
   "source": [
    "df_ipl['franchise'] = df_ipl['franchise'].replace(np.nan, 'RR')"
   ]
  },
  {
   "cell_type": "code",
   "execution_count": 12,
   "id": "a05a270f",
   "metadata": {},
   "outputs": [
    {
     "data": {
      "text/plain": [
       "name                     0.0\n",
       "player style             0.0\n",
       "nationality              0.0\n",
       "base price (in lacs)     0.0\n",
       "final price (in lacs)    0.0\n",
       "franchise                0.0\n",
       "status                   0.0\n",
       "dtype: float64"
      ]
     },
     "execution_count": 12,
     "metadata": {},
     "output_type": "execute_result"
    }
   ],
   "source": [
    "df_ipl.isnull().sum()/len(df_ipl)*100"
   ]
  },
  {
   "cell_type": "code",
   "execution_count": 13,
   "id": "2bac0134",
   "metadata": {},
   "outputs": [],
   "source": [
    "df_ipl = df_ipl.drop('name', axis= 1)\n",
    "df_ipl = df_ipl.drop('franchise', axis= 1)\n",
    "df_ipl = df_ipl.drop('base price (in lacs)', axis= 1)"
   ]
  },
  {
   "cell_type": "code",
   "execution_count": 14,
   "id": "be8206bd",
   "metadata": {},
   "outputs": [
    {
     "data": {
      "text/html": [
       "<div>\n",
       "<style scoped>\n",
       "    .dataframe tbody tr th:only-of-type {\n",
       "        vertical-align: middle;\n",
       "    }\n",
       "\n",
       "    .dataframe tbody tr th {\n",
       "        vertical-align: top;\n",
       "    }\n",
       "\n",
       "    .dataframe thead th {\n",
       "        text-align: right;\n",
       "    }\n",
       "</style>\n",
       "<table border=\"1\" class=\"dataframe\">\n",
       "  <thead>\n",
       "    <tr style=\"text-align: right;\">\n",
       "      <th></th>\n",
       "      <th>final price (in lacs)</th>\n",
       "    </tr>\n",
       "  </thead>\n",
       "  <tbody>\n",
       "    <tr>\n",
       "      <th>count</th>\n",
       "      <td>309.000000</td>\n",
       "    </tr>\n",
       "    <tr>\n",
       "      <th>mean</th>\n",
       "      <td>317.961165</td>\n",
       "    </tr>\n",
       "    <tr>\n",
       "      <th>std</th>\n",
       "      <td>404.499312</td>\n",
       "    </tr>\n",
       "    <tr>\n",
       "      <th>min</th>\n",
       "      <td>20.000000</td>\n",
       "    </tr>\n",
       "    <tr>\n",
       "      <th>25%</th>\n",
       "      <td>50.000000</td>\n",
       "    </tr>\n",
       "    <tr>\n",
       "      <th>50%</th>\n",
       "      <td>150.000000</td>\n",
       "    </tr>\n",
       "    <tr>\n",
       "      <th>75%</th>\n",
       "      <td>400.000000</td>\n",
       "    </tr>\n",
       "    <tr>\n",
       "      <th>max</th>\n",
       "      <td>1850.000000</td>\n",
       "    </tr>\n",
       "  </tbody>\n",
       "</table>\n",
       "</div>"
      ],
      "text/plain": [
       "       final price (in lacs)\n",
       "count             309.000000\n",
       "mean              317.961165\n",
       "std               404.499312\n",
       "min                20.000000\n",
       "25%                50.000000\n",
       "50%               150.000000\n",
       "75%               400.000000\n",
       "max              1850.000000"
      ]
     },
     "execution_count": 14,
     "metadata": {},
     "output_type": "execute_result"
    }
   ],
   "source": [
    "df_ipl.describe(include= 'number')"
   ]
  },
  {
   "cell_type": "code",
   "execution_count": 15,
   "id": "e5e3b4be",
   "metadata": {},
   "outputs": [
    {
     "data": {
      "text/html": [
       "<div>\n",
       "<style scoped>\n",
       "    .dataframe tbody tr th:only-of-type {\n",
       "        vertical-align: middle;\n",
       "    }\n",
       "\n",
       "    .dataframe tbody tr th {\n",
       "        vertical-align: top;\n",
       "    }\n",
       "\n",
       "    .dataframe thead th {\n",
       "        text-align: right;\n",
       "    }\n",
       "</style>\n",
       "<table border=\"1\" class=\"dataframe\">\n",
       "  <thead>\n",
       "    <tr style=\"text-align: right;\">\n",
       "      <th></th>\n",
       "      <th>player style</th>\n",
       "      <th>nationality</th>\n",
       "      <th>status</th>\n",
       "    </tr>\n",
       "  </thead>\n",
       "  <tbody>\n",
       "    <tr>\n",
       "      <th>count</th>\n",
       "      <td>309</td>\n",
       "      <td>309</td>\n",
       "      <td>309</td>\n",
       "    </tr>\n",
       "    <tr>\n",
       "      <th>unique</th>\n",
       "      <td>4</td>\n",
       "      <td>14</td>\n",
       "      <td>3</td>\n",
       "    </tr>\n",
       "    <tr>\n",
       "      <th>top</th>\n",
       "      <td>Bowler</td>\n",
       "      <td>India</td>\n",
       "      <td>RETAINED</td>\n",
       "    </tr>\n",
       "    <tr>\n",
       "      <th>freq</th>\n",
       "      <td>111</td>\n",
       "      <td>201</td>\n",
       "      <td>158</td>\n",
       "    </tr>\n",
       "  </tbody>\n",
       "</table>\n",
       "</div>"
      ],
      "text/plain": [
       "       player style nationality    status\n",
       "count           309         309       309\n",
       "unique            4          14         3\n",
       "top          Bowler       India  RETAINED\n",
       "freq            111         201       158"
      ]
     },
     "execution_count": 15,
     "metadata": {},
     "output_type": "execute_result"
    }
   ],
   "source": [
    "df_ipl.describe(include= 'object')"
   ]
  },
  {
   "cell_type": "markdown",
   "id": "719706c9",
   "metadata": {},
   "source": [
    "## Exploratory Data Analysis"
   ]
  },
  {
   "cell_type": "markdown",
   "id": "79b85c77",
   "metadata": {},
   "source": [
    "### Univariate Analysis"
   ]
  },
  {
   "cell_type": "code",
   "execution_count": 16,
   "id": "9166c462",
   "metadata": {},
   "outputs": [
    {
     "data": {
      "text/plain": [
       "<AxesSubplot:xlabel='status', ylabel='count'>"
      ]
     },
     "execution_count": 16,
     "metadata": {},
     "output_type": "execute_result"
    },
    {
     "data": {
      "image/png": "[encoded data removed]",
      "text/plain": [
       "<Figure size 1440x720 with 1 Axes>"
      ]
     },
     "metadata": {
      "needs_background": "light"
     },
     "output_type": "display_data"
    }
   ],
   "source": [
    "sns.countplot(x = 'status', data= df_ipl)"
   ]
  },
  {
   "cell_type": "code",
   "execution_count": null,
   "id": "b62c8358",
   "metadata": {},
   "outputs": [],
   "source": [
    "# From the above plot I conclude that our target variable status is fairly balanced "
   ]
  },
  {
   "cell_type": "code",
   "execution_count": 17,
   "id": "f7307b52",
   "metadata": {},
   "outputs": [
    {
     "data": {
      "text/plain": [
       "<AxesSubplot:xlabel='player style', ylabel='count'>"
      ]
     },
     "execution_count": 17,
     "metadata": {},
     "output_type": "execute_result"
    },
    {
     "data": {
      "image/png": "[encoded data removed]",
      "text/plain": [
       "<Figure size 1440x720 with 1 Axes>"
      ]
     },
     "metadata": {
      "needs_background": "light"
     },
     "output_type": "display_data"
    }
   ],
   "source": [
    "sns.countplot(x = 'player style', data= df_ipl)"
   ]
  },
  {
   "cell_type": "code",
   "execution_count": null,
   "id": "9102c2ea",
   "metadata": {},
   "outputs": [],
   "source": [
    "# From the above plot we can see that the player appeared in the auction were mainly bowlers compared to batsmen"
   ]
  },
  {
   "cell_type": "code",
   "execution_count": 18,
   "id": "4179ce0a",
   "metadata": {},
   "outputs": [
    {
     "data": {
      "text/plain": [
       "<AxesSubplot:xlabel='nationality', ylabel='count'>"
      ]
     },
     "execution_count": 18,
     "metadata": {},
     "output_type": "execute_result"
    },
    {
     "data": {
      "image/png": "[encoded data removed]",
      "text/plain": [
       "<Figure size 1440x720 with 1 Axes>"
      ]
     },
     "metadata": {
      "needs_background": "light"
     },
     "output_type": "display_data"
    }
   ],
   "source": [
    "sns.countplot(x= 'nationality', data= df_ipl)"
   ]
  },
  {
   "cell_type": "code",
   "execution_count": null,
   "id": "5ed50d74",
   "metadata": {},
   "outputs": [],
   "source": [
    "# From the above plot we can see that most number of players in the auction are from country India"
   ]
  },
  {
   "cell_type": "code",
   "execution_count": 19,
   "id": "11c1d970",
   "metadata": {},
   "outputs": [
    {
     "data": {
      "text/plain": [
       "<AxesSubplot:xlabel='final price (in lacs)', ylabel='Count'>"
      ]
     },
     "execution_count": 19,
     "metadata": {},
     "output_type": "execute_result"
    },
    {
     "data": {
      "image/png": "[encoded data removed]",
      "text/plain": [
       "<Figure size 1440x720 with 1 Axes>"
      ]
     },
     "metadata": {
      "needs_background": "light"
     },
     "output_type": "display_data"
    }
   ],
   "source": [
    "sns.histplot(x= 'final price (in lacs)', data= df_ipl)"
   ]
  },
  {
   "cell_type": "markdown",
   "id": "67d60995",
   "metadata": {},
   "source": [
    "### Bivariate Analysis"
   ]
  },
  {
   "cell_type": "code",
   "execution_count": 20,
   "id": "98dddbde",
   "metadata": {},
   "outputs": [
    {
     "data": {
      "text/plain": [
       "<AxesSubplot:xlabel='player style', ylabel='final price (in lacs)'>"
      ]
     },
     "execution_count": 20,
     "metadata": {},
     "output_type": "execute_result"
    },
    {
     "data": {
      "image/png": "[encoded data removed]",
      "text/plain": [
       "<Figure size 1440x720 with 1 Axes>"
      ]
     },
     "metadata": {
      "needs_background": "light"
     },
     "output_type": "display_data"
    }
   ],
   "source": [
    "sns.barplot(x= 'player style', y= 'final price (in lacs)', data= df_ipl)"
   ]
  },
  {
   "cell_type": "code",
   "execution_count": null,
   "id": "0167fea8",
   "metadata": {},
   "outputs": [],
   "source": [
    "# From this above plot we can see that the batsmen's final prices are more than bowler and allrounder"
   ]
  },
  {
   "cell_type": "code",
   "execution_count": 21,
   "id": "1c66971a",
   "metadata": {},
   "outputs": [
    {
     "data": {
      "text/plain": [
       "<AxesSubplot:xlabel='nationality', ylabel='final price (in lacs)'>"
      ]
     },
     "execution_count": 21,
     "metadata": {},
     "output_type": "execute_result"
    },
    {
     "data": {
      "image/png": "[encoded data removed]",
      "text/plain": [
       "<Figure size 1440x720 with 1 Axes>"
      ]
     },
     "metadata": {
      "needs_background": "light"
     },
     "output_type": "display_data"
    }
   ],
   "source": [
    "sns.barplot(x= 'nationality', y= 'final price (in lacs)', data= df_ipl)"
   ]
  },
  {
   "cell_type": "code",
   "execution_count": null,
   "id": "243a480d",
   "metadata": {},
   "outputs": [],
   "source": [
    "# From the above plot we can see that the player from singapore has more final prices than players from other nationality"
   ]
  },
  {
   "cell_type": "code",
   "execution_count": 22,
   "id": "ed67f600",
   "metadata": {},
   "outputs": [
    {
     "data": {
      "text/html": [
       "<div>\n",
       "<style scoped>\n",
       "    .dataframe tbody tr th:only-of-type {\n",
       "        vertical-align: middle;\n",
       "    }\n",
       "\n",
       "    .dataframe tbody tr th {\n",
       "        vertical-align: top;\n",
       "    }\n",
       "\n",
       "    .dataframe thead th {\n",
       "        text-align: right;\n",
       "    }\n",
       "</style>\n",
       "<table border=\"1\" class=\"dataframe\">\n",
       "  <thead>\n",
       "    <tr style=\"text-align: right;\">\n",
       "      <th>status</th>\n",
       "      <th>RETAINED</th>\n",
       "      <th>SOLD</th>\n",
       "      <th>UNSOLD</th>\n",
       "    </tr>\n",
       "    <tr>\n",
       "      <th>player style</th>\n",
       "      <th></th>\n",
       "      <th></th>\n",
       "      <th></th>\n",
       "    </tr>\n",
       "  </thead>\n",
       "  <tbody>\n",
       "    <tr>\n",
       "      <th>Allrounder</th>\n",
       "      <td>0.436893</td>\n",
       "      <td>0.310680</td>\n",
       "      <td>0.252427</td>\n",
       "    </tr>\n",
       "    <tr>\n",
       "      <th>Batter</th>\n",
       "      <td>0.581818</td>\n",
       "      <td>0.218182</td>\n",
       "      <td>0.200000</td>\n",
       "    </tr>\n",
       "    <tr>\n",
       "      <th>Bowler</th>\n",
       "      <td>0.558559</td>\n",
       "      <td>0.225225</td>\n",
       "      <td>0.216216</td>\n",
       "    </tr>\n",
       "    <tr>\n",
       "      <th>WK-Batter</th>\n",
       "      <td>0.475000</td>\n",
       "      <td>0.275000</td>\n",
       "      <td>0.250000</td>\n",
       "    </tr>\n",
       "  </tbody>\n",
       "</table>\n",
       "</div>"
      ],
      "text/plain": [
       "status        RETAINED      SOLD    UNSOLD\n",
       "player style                              \n",
       "Allrounder    0.436893  0.310680  0.252427\n",
       "Batter        0.581818  0.218182  0.200000\n",
       "Bowler        0.558559  0.225225  0.216216\n",
       "WK-Batter     0.475000  0.275000  0.250000"
      ]
     },
     "execution_count": 22,
     "metadata": {},
     "output_type": "execute_result"
    }
   ],
   "source": [
    "tab = pd.crosstab(index= df_ipl['player style'], columns= df_ipl['status']).apply(lambda r:r/(r.sum()), axis= 1)\n",
    "tab"
   ]
  },
  {
   "cell_type": "code",
   "execution_count": 23,
   "id": "f9b41e95",
   "metadata": {},
   "outputs": [
    {
     "data": {
      "text/plain": [
       "<AxesSubplot:xlabel='player style'>"
      ]
     },
     "execution_count": 23,
     "metadata": {},
     "output_type": "execute_result"
    },
    {
     "data": {
      "image/png": "[encoded data removed]",
      "text/plain": [
       "<Figure size 1440x720 with 1 Axes>"
      ]
     },
     "metadata": {
      "needs_background": "light"
     },
     "output_type": "display_data"
    }
   ],
   "source": [
    "tab.plot.bar(stacked= True)"
   ]
  },
  {
   "cell_type": "code",
   "execution_count": null,
   "id": "43f4a41e",
   "metadata": {},
   "outputs": [],
   "source": [
    "# From the above plot we can see that batsmen's are retained the most by any franchise and on the other hand franchise have \n",
    "# purchase more allrounder. We can also see that franchise don't prefer WK-batsmen as there are maximum WK-batsmen which are unsold"
   ]
  },
  {
   "cell_type": "code",
   "execution_count": 24,
   "id": "e0e82b4f",
   "metadata": {},
   "outputs": [
    {
     "data": {
      "text/html": [
       "<div>\n",
       "<style scoped>\n",
       "    .dataframe tbody tr th:only-of-type {\n",
       "        vertical-align: middle;\n",
       "    }\n",
       "\n",
       "    .dataframe tbody tr th {\n",
       "        vertical-align: top;\n",
       "    }\n",
       "\n",
       "    .dataframe thead th {\n",
       "        text-align: right;\n",
       "    }\n",
       "</style>\n",
       "<table border=\"1\" class=\"dataframe\">\n",
       "  <thead>\n",
       "    <tr style=\"text-align: right;\">\n",
       "      <th>status</th>\n",
       "      <th>RETAINED</th>\n",
       "      <th>SOLD</th>\n",
       "      <th>UNSOLD</th>\n",
       "    </tr>\n",
       "    <tr>\n",
       "      <th>nationality</th>\n",
       "      <th></th>\n",
       "      <th></th>\n",
       "      <th></th>\n",
       "    </tr>\n",
       "  </thead>\n",
       "  <tbody>\n",
       "    <tr>\n",
       "      <th>Afghanistan</th>\n",
       "      <td>0.428571</td>\n",
       "      <td>0.142857</td>\n",
       "      <td>0.428571</td>\n",
       "    </tr>\n",
       "    <tr>\n",
       "      <th>Australia</th>\n",
       "      <td>0.500000</td>\n",
       "      <td>0.285714</td>\n",
       "      <td>0.214286</td>\n",
       "    </tr>\n",
       "    <tr>\n",
       "      <th>Bangladesh</th>\n",
       "      <td>0.250000</td>\n",
       "      <td>0.500000</td>\n",
       "      <td>0.250000</td>\n",
       "    </tr>\n",
       "    <tr>\n",
       "      <th>England</th>\n",
       "      <td>0.291667</td>\n",
       "      <td>0.333333</td>\n",
       "      <td>0.375000</td>\n",
       "    </tr>\n",
       "    <tr>\n",
       "      <th>India</th>\n",
       "      <td>0.552239</td>\n",
       "      <td>0.253731</td>\n",
       "      <td>0.194030</td>\n",
       "    </tr>\n",
       "    <tr>\n",
       "      <th>Ireland</th>\n",
       "      <td>0.000000</td>\n",
       "      <td>0.500000</td>\n",
       "      <td>0.500000</td>\n",
       "    </tr>\n",
       "    <tr>\n",
       "      <th>Namibia</th>\n",
       "      <td>0.000000</td>\n",
       "      <td>1.000000</td>\n",
       "      <td>0.000000</td>\n",
       "    </tr>\n",
       "    <tr>\n",
       "      <th>Netherlands</th>\n",
       "      <td>0.000000</td>\n",
       "      <td>0.000000</td>\n",
       "      <td>1.000000</td>\n",
       "    </tr>\n",
       "    <tr>\n",
       "      <th>New Zealand</th>\n",
       "      <td>0.545455</td>\n",
       "      <td>0.181818</td>\n",
       "      <td>0.272727</td>\n",
       "    </tr>\n",
       "    <tr>\n",
       "      <th>Singapore</th>\n",
       "      <td>1.000000</td>\n",
       "      <td>0.000000</td>\n",
       "      <td>0.000000</td>\n",
       "    </tr>\n",
       "    <tr>\n",
       "      <th>South Africa</th>\n",
       "      <td>0.578947</td>\n",
       "      <td>0.210526</td>\n",
       "      <td>0.210526</td>\n",
       "    </tr>\n",
       "    <tr>\n",
       "      <th>Sri Lanka</th>\n",
       "      <td>0.500000</td>\n",
       "      <td>0.000000</td>\n",
       "      <td>0.500000</td>\n",
       "    </tr>\n",
       "    <tr>\n",
       "      <th>West Indies</th>\n",
       "      <td>0.500000</td>\n",
       "      <td>0.357143</td>\n",
       "      <td>0.142857</td>\n",
       "    </tr>\n",
       "    <tr>\n",
       "      <th>Zimbabwe</th>\n",
       "      <td>0.000000</td>\n",
       "      <td>0.500000</td>\n",
       "      <td>0.500000</td>\n",
       "    </tr>\n",
       "  </tbody>\n",
       "</table>\n",
       "</div>"
      ],
      "text/plain": [
       "status        RETAINED      SOLD    UNSOLD\n",
       "nationality                               \n",
       "Afghanistan   0.428571  0.142857  0.428571\n",
       "Australia     0.500000  0.285714  0.214286\n",
       "Bangladesh    0.250000  0.500000  0.250000\n",
       "England       0.291667  0.333333  0.375000\n",
       "India         0.552239  0.253731  0.194030\n",
       "Ireland       0.000000  0.500000  0.500000\n",
       "Namibia       0.000000  1.000000  0.000000\n",
       "Netherlands   0.000000  0.000000  1.000000\n",
       "New Zealand   0.545455  0.181818  0.272727\n",
       "Singapore     1.000000  0.000000  0.000000\n",
       "South Africa  0.578947  0.210526  0.210526\n",
       "Sri Lanka     0.500000  0.000000  0.500000\n",
       "West Indies   0.500000  0.357143  0.142857\n",
       "Zimbabwe      0.000000  0.500000  0.500000"
      ]
     },
     "execution_count": 24,
     "metadata": {},
     "output_type": "execute_result"
    }
   ],
   "source": [
    "tab = pd.crosstab(index= df_ipl['nationality'], columns= df_ipl['status']).apply(lambda r:r/(r.sum()), axis= 1)\n",
    "tab"
   ]
  },
  {
   "cell_type": "code",
   "execution_count": 25,
   "id": "ccfd5950",
   "metadata": {},
   "outputs": [
    {
     "data": {
      "text/plain": [
       "<AxesSubplot:xlabel='nationality'>"
      ]
     },
     "execution_count": 25,
     "metadata": {},
     "output_type": "execute_result"
    },
    {
     "data": {
      "image/png": "[encoded data removed]",
      "text/plain": [
       "<Figure size 1440x720 with 1 Axes>"
      ]
     },
     "metadata": {
      "needs_background": "light"
     },
     "output_type": "display_data"
    }
   ],
   "source": [
    "tab.plot.bar(stacked= True)"
   ]
  },
  {
   "cell_type": "markdown",
   "id": "104a3bb8",
   "metadata": {},
   "source": [
    "## Encoding the Categorical Variable"
   ]
  },
  {
   "cell_type": "code",
   "execution_count": 26,
   "id": "5b8b4ea2",
   "metadata": {},
   "outputs": [],
   "source": [
    "df_ipl['status'] = df_ipl['status'].replace('RETAINED',0)\n",
    "df_ipl['status'] = df_ipl['status'].replace('SOLD',1)\n",
    "df_ipl['status'] = df_ipl['status'].replace('UNSOLD',2)"
   ]
  },
  {
   "cell_type": "code",
   "execution_count": 27,
   "id": "edf52c37",
   "metadata": {},
   "outputs": [
    {
     "data": {
      "text/plain": [
       "0      0\n",
       "1      2\n",
       "2      2\n",
       "3      1\n",
       "4      1\n",
       "      ..\n",
       "304    0\n",
       "305    0\n",
       "306    0\n",
       "307    0\n",
       "308    0\n",
       "Name: status, Length: 309, dtype: int32"
      ]
     },
     "execution_count": 27,
     "metadata": {},
     "output_type": "execute_result"
    }
   ],
   "source": [
    "df_ipl['status'].astype(int)"
   ]
  },
  {
   "cell_type": "code",
   "execution_count": 28,
   "id": "1a69a3f3",
   "metadata": {},
   "outputs": [
    {
     "data": {
      "text/plain": [
       "player style              object\n",
       "nationality               object\n",
       "final price (in lacs)    float64\n",
       "status                     int64\n",
       "dtype: object"
      ]
     },
     "execution_count": 28,
     "metadata": {},
     "output_type": "execute_result"
    }
   ],
   "source": [
    "df_ipl.dtypes"
   ]
  },
  {
   "cell_type": "code",
   "execution_count": 29,
   "id": "ab4d011c",
   "metadata": {},
   "outputs": [
    {
     "data": {
      "text/html": [
       "<div>\n",
       "<style scoped>\n",
       "    .dataframe tbody tr th:only-of-type {\n",
       "        vertical-align: middle;\n",
       "    }\n",
       "\n",
       "    .dataframe tbody tr th {\n",
       "        vertical-align: top;\n",
       "    }\n",
       "\n",
       "    .dataframe thead th {\n",
       "        text-align: right;\n",
       "    }\n",
       "</style>\n",
       "<table border=\"1\" class=\"dataframe\">\n",
       "  <thead>\n",
       "    <tr style=\"text-align: right;\">\n",
       "      <th></th>\n",
       "      <th>player style</th>\n",
       "      <th>nationality</th>\n",
       "      <th>final price (in lacs)</th>\n",
       "      <th>status</th>\n",
       "      <th>Bowler</th>\n",
       "      <th>Batter</th>\n",
       "      <th>Allrounder</th>\n",
       "      <th>WK-Batter</th>\n",
       "    </tr>\n",
       "  </thead>\n",
       "  <tbody>\n",
       "    <tr>\n",
       "      <th>0</th>\n",
       "      <td>Bowler</td>\n",
       "      <td>India</td>\n",
       "      <td>20.0</td>\n",
       "      <td>0</td>\n",
       "      <td>0.0</td>\n",
       "      <td>0.0</td>\n",
       "      <td>1.0</td>\n",
       "      <td>0.0</td>\n",
       "    </tr>\n",
       "    <tr>\n",
       "      <th>1</th>\n",
       "      <td>Batter</td>\n",
       "      <td>India</td>\n",
       "      <td>150.0</td>\n",
       "      <td>2</td>\n",
       "      <td>0.0</td>\n",
       "      <td>1.0</td>\n",
       "      <td>0.0</td>\n",
       "      <td>0.0</td>\n",
       "    </tr>\n",
       "  </tbody>\n",
       "</table>\n",
       "</div>"
      ],
      "text/plain": [
       "  player style nationality  final price (in lacs)  status  Bowler  Batter  \\\n",
       "0       Bowler       India                   20.0       0     0.0     0.0   \n",
       "1       Batter       India                  150.0       2     0.0     1.0   \n",
       "\n",
       "   Allrounder  WK-Batter  \n",
       "0         1.0        0.0  \n",
       "1         0.0        0.0  "
      ]
     },
     "execution_count": 29,
     "metadata": {},
     "output_type": "execute_result"
    }
   ],
   "source": [
    "from sklearn.preprocessing import OneHotEncoder\n",
    "\n",
    "encode = OneHotEncoder()\n",
    "\n",
    "df_encode = pd.DataFrame(encode.fit_transform(df_ipl[['player style']]).toarray(), columns= ['Bowler', 'Batter', 'Allrounder', 'WK-Batter'])\n",
    "\n",
    "df_encode = pd.concat([df_ipl, df_encode], axis= 1)\n",
    "\n",
    "df_encode.head(2)"
   ]
  },
  {
   "cell_type": "code",
   "execution_count": 30,
   "id": "7066b5f4",
   "metadata": {},
   "outputs": [],
   "source": [
    "def freq_encod(col):    \n",
    "    dic = df_encode[col].value_counts().to_dict()\n",
    "\n",
    "    dic = {i:round(j/(len(df_encode)),5) for i,j in dic.items()}\n",
    "\n",
    "    df_encode[col] = df_encode[col].map(dic)"
   ]
  },
  {
   "cell_type": "code",
   "execution_count": 31,
   "id": "2560bc50",
   "metadata": {},
   "outputs": [],
   "source": [
    "freq_encod('nationality')"
   ]
  },
  {
   "cell_type": "markdown",
   "id": "95758deb",
   "metadata": {},
   "source": [
    "## Scaling the Dataset"
   ]
  },
  {
   "cell_type": "code",
   "execution_count": 32,
   "id": "3225b872",
   "metadata": {},
   "outputs": [],
   "source": [
    "df_target = df_encode['status']\n",
    "\n",
    "df_feature = df_encode.drop('status', axis= 1)"
   ]
  },
  {
   "cell_type": "code",
   "execution_count": 33,
   "id": "12bfb682",
   "metadata": {},
   "outputs": [
    {
     "data": {
      "text/plain": [
       "Index(['nationality', 'final price (in lacs)', 'Bowler', 'Batter',\n",
       "       'Allrounder', 'WK-Batter'],\n",
       "      dtype='object')"
      ]
     },
     "execution_count": 33,
     "metadata": {},
     "output_type": "execute_result"
    }
   ],
   "source": [
    "df_num = df_feature.select_dtypes(include= 'number')\n",
    "df_num.columns"
   ]
  },
  {
   "cell_type": "code",
   "execution_count": 34,
   "id": "19c47e0f",
   "metadata": {},
   "outputs": [
    {
     "data": {
      "text/plain": [
       "Index(['player style'], dtype='object')"
      ]
     },
     "execution_count": 34,
     "metadata": {},
     "output_type": "execute_result"
    }
   ],
   "source": [
    "df_cat = df_feature.select_dtypes(include= 'object')\n",
    "df_cat.columns"
   ]
  },
  {
   "cell_type": "code",
   "execution_count": 35,
   "id": "43131876",
   "metadata": {},
   "outputs": [
    {
     "data": {
      "text/html": [
       "<div>\n",
       "<style scoped>\n",
       "    .dataframe tbody tr th:only-of-type {\n",
       "        vertical-align: middle;\n",
       "    }\n",
       "\n",
       "    .dataframe tbody tr th {\n",
       "        vertical-align: top;\n",
       "    }\n",
       "\n",
       "    .dataframe thead th {\n",
       "        text-align: right;\n",
       "    }\n",
       "</style>\n",
       "<table border=\"1\" class=\"dataframe\">\n",
       "  <thead>\n",
       "    <tr style=\"text-align: right;\">\n",
       "      <th></th>\n",
       "      <th>player style_Batter</th>\n",
       "      <th>player style_Bowler</th>\n",
       "      <th>player style_WK-Batter</th>\n",
       "    </tr>\n",
       "  </thead>\n",
       "  <tbody>\n",
       "    <tr>\n",
       "      <th>0</th>\n",
       "      <td>0</td>\n",
       "      <td>1</td>\n",
       "      <td>0</td>\n",
       "    </tr>\n",
       "    <tr>\n",
       "      <th>1</th>\n",
       "      <td>1</td>\n",
       "      <td>0</td>\n",
       "      <td>0</td>\n",
       "    </tr>\n",
       "    <tr>\n",
       "      <th>2</th>\n",
       "      <td>0</td>\n",
       "      <td>0</td>\n",
       "      <td>0</td>\n",
       "    </tr>\n",
       "    <tr>\n",
       "      <th>3</th>\n",
       "      <td>0</td>\n",
       "      <td>0</td>\n",
       "      <td>0</td>\n",
       "    </tr>\n",
       "    <tr>\n",
       "      <th>4</th>\n",
       "      <td>1</td>\n",
       "      <td>0</td>\n",
       "      <td>0</td>\n",
       "    </tr>\n",
       "  </tbody>\n",
       "</table>\n",
       "</div>"
      ],
      "text/plain": [
       "   player style_Batter  player style_Bowler  player style_WK-Batter\n",
       "0                    0                    1                       0\n",
       "1                    1                    0                       0\n",
       "2                    0                    0                       0\n",
       "3                    0                    0                       0\n",
       "4                    1                    0                       0"
      ]
     },
     "execution_count": 35,
     "metadata": {},
     "output_type": "execute_result"
    }
   ],
   "source": [
    "dummy_var = pd.get_dummies(data= df_cat, drop_first= True)\n",
    "dummy_var.head()"
   ]
  },
  {
   "cell_type": "code",
   "execution_count": 36,
   "id": "ea8a3693",
   "metadata": {},
   "outputs": [],
   "source": [
    "ss = StandardScaler()\n",
    "\n",
    "num_scaled = ss.fit_transform(df_num)\n",
    "df_num_scaled = pd.DataFrame(num_scaled, columns= df_num.columns)"
   ]
  },
  {
   "cell_type": "code",
   "execution_count": 37,
   "id": "ab66802a",
   "metadata": {},
   "outputs": [
    {
     "data": {
      "text/html": [
       "<div>\n",
       "<style scoped>\n",
       "    .dataframe tbody tr th:only-of-type {\n",
       "        vertical-align: middle;\n",
       "    }\n",
       "\n",
       "    .dataframe tbody tr th {\n",
       "        vertical-align: top;\n",
       "    }\n",
       "\n",
       "    .dataframe thead th {\n",
       "        text-align: right;\n",
       "    }\n",
       "</style>\n",
       "<table border=\"1\" class=\"dataframe\">\n",
       "  <thead>\n",
       "    <tr style=\"text-align: right;\">\n",
       "      <th></th>\n",
       "      <th>nationality</th>\n",
       "      <th>final price (in lacs)</th>\n",
       "      <th>Bowler</th>\n",
       "      <th>Batter</th>\n",
       "      <th>Allrounder</th>\n",
       "      <th>WK-Batter</th>\n",
       "      <th>player style_Batter</th>\n",
       "      <th>player style_Bowler</th>\n",
       "      <th>player style_WK-Batter</th>\n",
       "    </tr>\n",
       "  </thead>\n",
       "  <tbody>\n",
       "    <tr>\n",
       "      <th>0</th>\n",
       "      <td>0.732261</td>\n",
       "      <td>-0.737812</td>\n",
       "      <td>-0.707107</td>\n",
       "      <td>-0.465334</td>\n",
       "      <td>1.335584</td>\n",
       "      <td>-0.385615</td>\n",
       "      <td>0</td>\n",
       "      <td>1</td>\n",
       "      <td>0</td>\n",
       "    </tr>\n",
       "    <tr>\n",
       "      <th>1</th>\n",
       "      <td>0.732261</td>\n",
       "      <td>-0.415906</td>\n",
       "      <td>-0.707107</td>\n",
       "      <td>2.148996</td>\n",
       "      <td>-0.748736</td>\n",
       "      <td>-0.385615</td>\n",
       "      <td>1</td>\n",
       "      <td>0</td>\n",
       "      <td>0</td>\n",
       "    </tr>\n",
       "    <tr>\n",
       "      <th>2</th>\n",
       "      <td>-1.314705</td>\n",
       "      <td>-0.415906</td>\n",
       "      <td>1.414214</td>\n",
       "      <td>-0.465334</td>\n",
       "      <td>-0.748736</td>\n",
       "      <td>-0.385615</td>\n",
       "      <td>0</td>\n",
       "      <td>0</td>\n",
       "      <td>0</td>\n",
       "    </tr>\n",
       "    <tr>\n",
       "      <th>3</th>\n",
       "      <td>-1.483432</td>\n",
       "      <td>-0.415906</td>\n",
       "      <td>1.414214</td>\n",
       "      <td>-0.465334</td>\n",
       "      <td>-0.748736</td>\n",
       "      <td>-0.385615</td>\n",
       "      <td>0</td>\n",
       "      <td>0</td>\n",
       "      <td>0</td>\n",
       "    </tr>\n",
       "    <tr>\n",
       "      <th>4</th>\n",
       "      <td>-1.258474</td>\n",
       "      <td>-0.539716</td>\n",
       "      <td>-0.707107</td>\n",
       "      <td>2.148996</td>\n",
       "      <td>-0.748736</td>\n",
       "      <td>-0.385615</td>\n",
       "      <td>1</td>\n",
       "      <td>0</td>\n",
       "      <td>0</td>\n",
       "    </tr>\n",
       "  </tbody>\n",
       "</table>\n",
       "</div>"
      ],
      "text/plain": [
       "   nationality  final price (in lacs)    Bowler    Batter  Allrounder  \\\n",
       "0     0.732261              -0.737812 -0.707107 -0.465334    1.335584   \n",
       "1     0.732261              -0.415906 -0.707107  2.148996   -0.748736   \n",
       "2    -1.314705              -0.415906  1.414214 -0.465334   -0.748736   \n",
       "3    -1.483432              -0.415906  1.414214 -0.465334   -0.748736   \n",
       "4    -1.258474              -0.539716 -0.707107  2.148996   -0.748736   \n",
       "\n",
       "   WK-Batter  player style_Batter  player style_Bowler  player style_WK-Batter  \n",
       "0  -0.385615                    0                    1                       0  \n",
       "1  -0.385615                    1                    0                       0  \n",
       "2  -0.385615                    0                    0                       0  \n",
       "3  -0.385615                    0                    0                       0  \n",
       "4  -0.385615                    1                    0                       0  "
      ]
     },
     "execution_count": 37,
     "metadata": {},
     "output_type": "execute_result"
    }
   ],
   "source": [
    "X = pd.concat([df_num_scaled,dummy_var], axis= 1)\n",
    "X.head()"
   ]
  },
  {
   "cell_type": "code",
   "execution_count": 38,
   "id": "6692de04",
   "metadata": {},
   "outputs": [
    {
     "name": "stdout",
     "output_type": "stream",
     "text": [
      "(247, 10)\n"
     ]
    }
   ],
   "source": [
    "xc = sm.add_constant(X)\n",
    "\n",
    "X_train, X_test, y_train, y_test = train_test_split(xc, df_target, test_size= 0.2, random_state= 10)\n",
    "\n",
    "print(X_train.shape)"
   ]
  },
  {
   "cell_type": "code",
   "execution_count": 39,
   "id": "30410fe0",
   "metadata": {},
   "outputs": [
    {
     "name": "stdout",
     "output_type": "stream",
     "text": [
      "(62, 10)\n"
     ]
    }
   ],
   "source": [
    "print(X_test.shape)"
   ]
  },
  {
   "cell_type": "code",
   "execution_count": 40,
   "id": "ac717f7b",
   "metadata": {},
   "outputs": [
    {
     "name": "stdout",
     "output_type": "stream",
     "text": [
      "(247,)\n"
     ]
    }
   ],
   "source": [
    "print(y_train.shape)"
   ]
  },
  {
   "cell_type": "code",
   "execution_count": 41,
   "id": "d1cab8e0",
   "metadata": {},
   "outputs": [
    {
     "name": "stdout",
     "output_type": "stream",
     "text": [
      "(62,)\n"
     ]
    }
   ],
   "source": [
    "print(y_test.shape)"
   ]
  },
  {
   "cell_type": "markdown",
   "id": "495034f3",
   "metadata": {},
   "source": [
    "## Building a Base Model"
   ]
  },
  {
   "cell_type": "markdown",
   "id": "1b1aebbf",
   "metadata": {},
   "source": [
    "### 1. Logistics Regression"
   ]
  },
  {
   "cell_type": "code",
   "execution_count": 42,
   "id": "3a4dfaf9",
   "metadata": {},
   "outputs": [],
   "source": [
    "model = LogisticRegression(multi_class= 'ovr', solver= 'liblinear')\n",
    "\n",
    "lm = model.fit(X_train, y_train)"
   ]
  },
  {
   "cell_type": "code",
   "execution_count": 43,
   "id": "e24a2012",
   "metadata": {},
   "outputs": [],
   "source": [
    "y_pred = lm.predict(X_test)"
   ]
  },
  {
   "cell_type": "code",
   "execution_count": 44,
   "id": "7d1b6f79",
   "metadata": {},
   "outputs": [
    {
     "data": {
      "text/plain": [
       "0.5"
      ]
     },
     "execution_count": 44,
     "metadata": {},
     "output_type": "execute_result"
    }
   ],
   "source": [
    "lm_ar = metrics.accuracy_score(y_test, y_pred)\n",
    "lm_ar"
   ]
  },
  {
   "cell_type": "code",
   "execution_count": 45,
   "id": "b50b835c",
   "metadata": {},
   "outputs": [
    {
     "name": "stdout",
     "output_type": "stream",
     "text": [
      "              precision    recall  f1-score   support\n",
      "\n",
      "           0       0.56      0.85      0.67        33\n",
      "           1       0.20      0.07      0.10        15\n",
      "           2       0.29      0.14      0.19        14\n",
      "\n",
      "    accuracy                           0.50        62\n",
      "   macro avg       0.35      0.35      0.32        62\n",
      "weighted avg       0.41      0.50      0.43        62\n",
      "\n"
     ]
    }
   ],
   "source": [
    "from sklearn.metrics import classification_report\n",
    "\n",
    "report= classification_report(y_test, y_pred)\n",
    "print(report)"
   ]
  },
  {
   "cell_type": "markdown",
   "id": "b83c6685",
   "metadata": {},
   "source": [
    "## Fine Tuning the Model"
   ]
  },
  {
   "cell_type": "markdown",
   "id": "06daa470",
   "metadata": {},
   "source": [
    "### 2. Decision Tree(Using Entropy)"
   ]
  },
  {
   "cell_type": "code",
   "execution_count": 46,
   "id": "59239cd9",
   "metadata": {},
   "outputs": [],
   "source": [
    "decision_tree = DecisionTreeClassifier(criterion= 'entropy', random_state= 10)\n",
    "decision_tree = decision_tree.fit(X_train, y_train)"
   ]
  },
  {
   "cell_type": "code",
   "execution_count": 47,
   "id": "3ccbbac2",
   "metadata": {},
   "outputs": [],
   "source": [
    "pred = decision_tree.predict(X_test)"
   ]
  },
  {
   "cell_type": "code",
   "execution_count": 48,
   "id": "86f72e18",
   "metadata": {},
   "outputs": [
    {
     "data": {
      "text/plain": [
       "0.8064516129032258"
      ]
     },
     "execution_count": 48,
     "metadata": {},
     "output_type": "execute_result"
    }
   ],
   "source": [
    "dt = metrics.accuracy_score(y_test, pred)\n",
    "dt"
   ]
  },
  {
   "cell_type": "code",
   "execution_count": 49,
   "id": "3a0b8f0d",
   "metadata": {},
   "outputs": [
    {
     "name": "stdout",
     "output_type": "stream",
     "text": [
      "              precision    recall  f1-score   support\n",
      "\n",
      "           0       0.81      0.88      0.84        33\n",
      "           1       0.62      0.53      0.57        15\n",
      "           2       1.00      0.93      0.96        14\n",
      "\n",
      "    accuracy                           0.81        62\n",
      "   macro avg       0.81      0.78      0.79        62\n",
      "weighted avg       0.80      0.81      0.80        62\n",
      "\n"
     ]
    }
   ],
   "source": [
    "reports = classification_report(y_test, pred)\n",
    "print(reports)"
   ]
  },
  {
   "cell_type": "markdown",
   "id": "2cdab06d",
   "metadata": {},
   "source": [
    "### 3. Decision Tree(Using Gini)"
   ]
  },
  {
   "cell_type": "code",
   "execution_count": 50,
   "id": "48e02935",
   "metadata": {},
   "outputs": [],
   "source": [
    "dt_model = DecisionTreeClassifier(criterion= 'gini',\n",
    "                                  max_depth= 5,\n",
    "                                  min_samples_split= 4,\n",
    "                                  max_leaf_nodes= 6,\n",
    "                                  random_state= 10)\n",
    "\n",
    "dt_model = dt_model.fit(X_train, y_train)"
   ]
  },
  {
   "cell_type": "code",
   "execution_count": 51,
   "id": "6cb52074",
   "metadata": {},
   "outputs": [],
   "source": [
    "predd = dt_model.predict(X_test)"
   ]
  },
  {
   "cell_type": "code",
   "execution_count": 52,
   "id": "50422cff",
   "metadata": {},
   "outputs": [
    {
     "data": {
      "text/plain": [
       "0.7580645161290323"
      ]
     },
     "execution_count": 52,
     "metadata": {},
     "output_type": "execute_result"
    }
   ],
   "source": [
    "dt_model_ar = metrics.accuracy_score(y_test, predd)\n",
    "dt_model_ar"
   ]
  },
  {
   "cell_type": "code",
   "execution_count": 53,
   "id": "1a32fb97",
   "metadata": {},
   "outputs": [
    {
     "name": "stdout",
     "output_type": "stream",
     "text": [
      "              precision    recall  f1-score   support\n",
      "\n",
      "           0       0.69      1.00      0.81        33\n",
      "           1       0.00      0.00      0.00        15\n",
      "           2       1.00      1.00      1.00        14\n",
      "\n",
      "    accuracy                           0.76        62\n",
      "   macro avg       0.56      0.67      0.60        62\n",
      "weighted avg       0.59      0.76      0.66        62\n",
      "\n"
     ]
    },
    {
     "name": "stderr",
     "output_type": "stream",
     "text": [
      "C:\\Users\\Sanchit\\anaconda3\\lib\\site-packages\\sklearn\\metrics\\_classification.py:1318: UndefinedMetricWarning: Precision and F-score are ill-defined and being set to 0.0 in labels with no predicted samples. Use `zero_division` parameter to control this behavior.\n",
      "  _warn_prf(average, modifier, msg_start, len(result))\n",
      "C:\\Users\\Sanchit\\anaconda3\\lib\\site-packages\\sklearn\\metrics\\_classification.py:1318: UndefinedMetricWarning: Precision and F-score are ill-defined and being set to 0.0 in labels with no predicted samples. Use `zero_division` parameter to control this behavior.\n",
      "  _warn_prf(average, modifier, msg_start, len(result))\n",
      "C:\\Users\\Sanchit\\anaconda3\\lib\\site-packages\\sklearn\\metrics\\_classification.py:1318: UndefinedMetricWarning: Precision and F-score are ill-defined and being set to 0.0 in labels with no predicted samples. Use `zero_division` parameter to control this behavior.\n",
      "  _warn_prf(average, modifier, msg_start, len(result))\n"
     ]
    }
   ],
   "source": [
    "reports = classification_report(y_test, predd)\n",
    "print(reports)"
   ]
  },
  {
   "cell_type": "markdown",
   "id": "972815a6",
   "metadata": {},
   "source": [
    "### 4. Decision Tree(Using GridSearch)"
   ]
  },
  {
   "cell_type": "code",
   "execution_count": 54,
   "id": "2f06ea44",
   "metadata": {},
   "outputs": [],
   "source": [
    "tuned_parameters = [{'criterion':['entropy','gini'],\n",
    "                    'max_depth':range(2,10),\n",
    "                    'max_features':['sqrt','log2']}]\n",
    "\n",
    "decision_tree_classificaton = DecisionTreeClassifier(random_state= 10)\n",
    "\n",
    "tree_grid = GridSearchCV(estimator= decision_tree_classificaton,\n",
    "                         param_grid= tuned_parameters,\n",
    "                         cv= 5)\n",
    "\n",
    "tree_grid_model = tree_grid.fit(X_train, y_train)"
   ]
  },
  {
   "cell_type": "code",
   "execution_count": 55,
   "id": "d989e382",
   "metadata": {},
   "outputs": [
    {
     "data": {
      "text/plain": [
       "DecisionTreeClassifier(max_depth=9, max_features='sqrt', random_state=10)"
      ]
     },
     "execution_count": 55,
     "metadata": {},
     "output_type": "execute_result"
    }
   ],
   "source": [
    "dtt_model = DecisionTreeClassifier(criterion= tree_grid_model.best_params_.get('criterion'),\n",
    "                                   max_depth= tree_grid_model.best_params_.get('max_depth'),\n",
    "                                   max_features = tree_grid_model.best_params_.get('max_features'),\n",
    "                                   random_state = 10)\n",
    "\n",
    "dtt_model = dtt_model.fit(X_train, y_train)\n",
    "dtt_model"
   ]
  },
  {
   "cell_type": "code",
   "execution_count": 56,
   "id": "15cb16e5",
   "metadata": {},
   "outputs": [],
   "source": [
    "p = dtt_model.predict(X_test)"
   ]
  },
  {
   "cell_type": "code",
   "execution_count": 57,
   "id": "0af77603",
   "metadata": {},
   "outputs": [
    {
     "data": {
      "text/plain": [
       "0.7258064516129032"
      ]
     },
     "execution_count": 57,
     "metadata": {},
     "output_type": "execute_result"
    }
   ],
   "source": [
    "dtt_model_ar = metrics.accuracy_score(y_test, p)\n",
    "dtt_model_ar"
   ]
  },
  {
   "cell_type": "code",
   "execution_count": 58,
   "id": "26c77001",
   "metadata": {},
   "outputs": [
    {
     "name": "stdout",
     "output_type": "stream",
     "text": [
      "              precision    recall  f1-score   support\n",
      "\n",
      "           0       0.74      0.79      0.76        33\n",
      "           1       0.47      0.47      0.47        15\n",
      "           2       1.00      0.86      0.92        14\n",
      "\n",
      "    accuracy                           0.73        62\n",
      "   macro avg       0.74      0.70      0.72        62\n",
      "weighted avg       0.73      0.73      0.73        62\n",
      "\n"
     ]
    }
   ],
   "source": [
    "reports = classification_report(y_test, p)\n",
    "print(reports)"
   ]
  },
  {
   "cell_type": "markdown",
   "id": "3eef71ef",
   "metadata": {},
   "source": [
    "### 5. Random Forest Classification"
   ]
  },
  {
   "cell_type": "code",
   "execution_count": 59,
   "id": "02111dac",
   "metadata": {},
   "outputs": [],
   "source": [
    "rf = RandomForestClassifier(n_estimators= 10, random_state= 10)\n",
    "\n",
    "rf_model = rf.fit(X_train, y_train)"
   ]
  },
  {
   "cell_type": "code",
   "execution_count": 60,
   "id": "27c79543",
   "metadata": {},
   "outputs": [],
   "source": [
    "pr = rf_model.predict(X_test)"
   ]
  },
  {
   "cell_type": "code",
   "execution_count": 61,
   "id": "1dba69b3",
   "metadata": {},
   "outputs": [
    {
     "data": {
      "text/plain": [
       "0.7419354838709677"
      ]
     },
     "execution_count": 61,
     "metadata": {},
     "output_type": "execute_result"
    }
   ],
   "source": [
    "rf_model_ar = metrics.accuracy_score(y_test, pr)\n",
    "rf_model_ar"
   ]
  },
  {
   "cell_type": "code",
   "execution_count": 62,
   "id": "7402d007",
   "metadata": {},
   "outputs": [
    {
     "name": "stdout",
     "output_type": "stream",
     "text": [
      "              precision    recall  f1-score   support\n",
      "\n",
      "           0       0.75      0.82      0.78        33\n",
      "           1       0.50      0.47      0.48        15\n",
      "           2       1.00      0.86      0.92        14\n",
      "\n",
      "    accuracy                           0.74        62\n",
      "   macro avg       0.75      0.71      0.73        62\n",
      "weighted avg       0.75      0.74      0.74        62\n",
      "\n"
     ]
    }
   ],
   "source": [
    "reports = classification_report(y_test, pr)\n",
    "print(reports)"
   ]
  },
  {
   "cell_type": "markdown",
   "id": "ffc2b05b",
   "metadata": {},
   "source": [
    "### 6. Random Forest Classification(Using GridSearch)"
   ]
  },
  {
   "cell_type": "code",
   "execution_count": 63,
   "id": "ccf8fa56",
   "metadata": {},
   "outputs": [
    {
     "name": "stdout",
     "output_type": "stream",
     "text": [
      "{'criterion': 'gini', 'max_depth': 10, 'max_features': 'sqrt', 'max_leaf_nodes': 11, 'min_samples_leaf': 5, 'min_samples_split': 2, 'n_estimators': 50}\n"
     ]
    }
   ],
   "source": [
    "tuned_parameters = [{'criterion':['entropy','gini'],\n",
    "                     'n_estimators':[10,30,50,70,90],\n",
    "                     'max_depth':[10,15,20],\n",
    "                     'max_features':['sqrt','log2'],\n",
    "                     'min_samples_split':[2,5,8,11],\n",
    "                     'min_samples_leaf':[1,5,9],\n",
    "                     'max_leaf_nodes':[2,5,8,11]}]\n",
    "\n",
    "random_forest_classification = RandomForestClassifier(random_state=10)\n",
    "\n",
    "rf_grid = GridSearchCV(estimator = random_forest_classification,\n",
    "                         param_grid=tuned_parameters,\n",
    "                         cv=5)\n",
    "\n",
    "rf_grid_model = rf_grid.fit(X_train,y_train)\n",
    "\n",
    "print(rf_grid_model.best_params_)"
   ]
  },
  {
   "cell_type": "code",
   "execution_count": 64,
   "id": "d943fde1",
   "metadata": {},
   "outputs": [],
   "source": [
    "pr = rf_grid_model.predict(X_test)"
   ]
  },
  {
   "cell_type": "code",
   "execution_count": 65,
   "id": "170a10d8",
   "metadata": {},
   "outputs": [
    {
     "data": {
      "text/plain": [
       "0.8064516129032258"
      ]
     },
     "execution_count": 65,
     "metadata": {},
     "output_type": "execute_result"
    }
   ],
   "source": [
    "rf_grid_model_ar = metrics.accuracy_score(y_test, pr)\n",
    "rf_grid_model_ar"
   ]
  },
  {
   "cell_type": "code",
   "execution_count": 66,
   "id": "16e1f8ce",
   "metadata": {},
   "outputs": [
    {
     "name": "stdout",
     "output_type": "stream",
     "text": [
      "              precision    recall  f1-score   support\n",
      "\n",
      "           0       0.78      0.88      0.83        33\n",
      "           1       0.64      0.47      0.54        15\n",
      "           2       1.00      1.00      1.00        14\n",
      "\n",
      "    accuracy                           0.81        62\n",
      "   macro avg       0.81      0.78      0.79        62\n",
      "weighted avg       0.80      0.81      0.80        62\n",
      "\n"
     ]
    }
   ],
   "source": [
    "reports = classification_report(y_test, pr)\n",
    "print(reports)"
   ]
  },
  {
   "cell_type": "markdown",
   "id": "93ee9691",
   "metadata": {},
   "source": [
    "### 7. XGBoost Classifier"
   ]
  },
  {
   "cell_type": "code",
   "execution_count": 67,
   "id": "6d71cce6",
   "metadata": {},
   "outputs": [
    {
     "data": {
      "text/plain": [
       "XGBClassifier(base_score=None, booster=None, callbacks=None,\n",
       "              colsample_bylevel=None, colsample_bynode=None,\n",
       "              colsample_bytree=None, early_stopping_rounds=None,\n",
       "              enable_categorical=False, eval_metric=None, feature_types=None,\n",
       "              gamma=3, gpu_id=None, grow_policy=None, importance_type=None,\n",
       "              interaction_constraints=None, learning_rate=0.1, max_bin=None,\n",
       "              max_cat_threshold=None, max_cat_to_onehot=None,\n",
       "              max_delta_step=None, max_depth=None, max_leaves=None,\n",
       "              min_child_weight=None, missing=nan, monotone_constraints=None,\n",
       "              n_estimators=100, n_jobs=None, num_parallel_tree=None,\n",
       "              objective='multi:softprob', predictor=None, ...)"
      ]
     },
     "execution_count": 67,
     "metadata": {},
     "output_type": "execute_result"
    }
   ],
   "source": [
    "xg = XGBClassifier(learning_rate= 0.1, gamma= 3)\n",
    "\n",
    "xg.fit(X_train, y_train)"
   ]
  },
  {
   "cell_type": "code",
   "execution_count": 68,
   "id": "0c5ee062",
   "metadata": {},
   "outputs": [],
   "source": [
    "y_p = xg.predict(X_test)"
   ]
  },
  {
   "cell_type": "code",
   "execution_count": 69,
   "id": "46eae6fc",
   "metadata": {},
   "outputs": [
    {
     "data": {
      "text/plain": [
       "0.7580645161290323"
      ]
     },
     "execution_count": 69,
     "metadata": {},
     "output_type": "execute_result"
    }
   ],
   "source": [
    "xg_ar = metrics.accuracy_score(y_test, y_p)\n",
    "xg_ar"
   ]
  },
  {
   "cell_type": "code",
   "execution_count": 70,
   "id": "1b8107d3",
   "metadata": {},
   "outputs": [
    {
     "name": "stdout",
     "output_type": "stream",
     "text": [
      "              precision    recall  f1-score   support\n",
      "\n",
      "           0       0.69      1.00      0.81        33\n",
      "           1       0.00      0.00      0.00        15\n",
      "           2       1.00      1.00      1.00        14\n",
      "\n",
      "    accuracy                           0.76        62\n",
      "   macro avg       0.56      0.67      0.60        62\n",
      "weighted avg       0.59      0.76      0.66        62\n",
      "\n"
     ]
    },
    {
     "name": "stderr",
     "output_type": "stream",
     "text": [
      "C:\\Users\\Sanchit\\anaconda3\\lib\\site-packages\\sklearn\\metrics\\_classification.py:1318: UndefinedMetricWarning: Precision and F-score are ill-defined and being set to 0.0 in labels with no predicted samples. Use `zero_division` parameter to control this behavior.\n",
      "  _warn_prf(average, modifier, msg_start, len(result))\n",
      "C:\\Users\\Sanchit\\anaconda3\\lib\\site-packages\\sklearn\\metrics\\_classification.py:1318: UndefinedMetricWarning: Precision and F-score are ill-defined and being set to 0.0 in labels with no predicted samples. Use `zero_division` parameter to control this behavior.\n",
      "  _warn_prf(average, modifier, msg_start, len(result))\n",
      "C:\\Users\\Sanchit\\anaconda3\\lib\\site-packages\\sklearn\\metrics\\_classification.py:1318: UndefinedMetricWarning: Precision and F-score are ill-defined and being set to 0.0 in labels with no predicted samples. Use `zero_division` parameter to control this behavior.\n",
      "  _warn_prf(average, modifier, msg_start, len(result))\n"
     ]
    }
   ],
   "source": [
    "reports = classification_report(y_test, y_p)\n",
    "print(reports)"
   ]
  },
  {
   "cell_type": "markdown",
   "id": "57b5cd5b",
   "metadata": {},
   "source": [
    "### 8. XGBoost Classifier(Using GridSearch)"
   ]
  },
  {
   "cell_type": "code",
   "execution_count": 71,
   "id": "055050b9",
   "metadata": {},
   "outputs": [
    {
     "name": "stdout",
     "output_type": "stream",
     "text": [
      "Best Parameters for XGBoost Classifier:  {'gamma': 1, 'learning_rate': 0.2, 'max_depth': 7} \n",
      "\n"
     ]
    }
   ],
   "source": [
    "tuning_parameters = {'learning_rate':[0.1,0.2,0.3,0.4,0.5,0.6],\n",
    "                     'max_depth':range(3,10),\n",
    "                     'gamma':[0,1,2,3,4]}\n",
    "\n",
    "xgb_model = XGBClassifier()\n",
    "\n",
    "xgb_grid = GridSearchCV(estimator= xgb_model, param_grid= tuning_parameters, cv= 3, scoring= 'accuracy')\n",
    "\n",
    "xgb_grid.fit(X_train, y_train)\n",
    "\n",
    "print('Best Parameters for XGBoost Classifier: ', xgb_grid.best_params_, '\\n')"
   ]
  },
  {
   "cell_type": "code",
   "execution_count": 72,
   "id": "c195cd97",
   "metadata": {},
   "outputs": [],
   "source": [
    "xgb_grid_model = XGBClassifier(learning_rate = xgb_grid.best_params_.get('learning_rate'),\n",
    "                               max_depth = xgb_grid.best_params_.get('max_depth'),\n",
    "                               gamma = xgb_grid.best_params_.get('gamma'))\n",
    "\n",
    "xgb_mod = xgb_grid_model.fit(X_train, y_train)"
   ]
  },
  {
   "cell_type": "code",
   "execution_count": 73,
   "id": "61d5ef75",
   "metadata": {},
   "outputs": [],
   "source": [
    "pr = xgb_mod.predict(X_test)"
   ]
  },
  {
   "cell_type": "code",
   "execution_count": 74,
   "id": "19a12290",
   "metadata": {},
   "outputs": [
    {
     "data": {
      "text/plain": [
       "0.7419354838709677"
      ]
     },
     "execution_count": 74,
     "metadata": {},
     "output_type": "execute_result"
    }
   ],
   "source": [
    "xgb_mod_ar = metrics.accuracy_score(y_test, pr)\n",
    "xgb_mod_ar"
   ]
  },
  {
   "cell_type": "code",
   "execution_count": 75,
   "id": "5ca37853",
   "metadata": {},
   "outputs": [
    {
     "name": "stdout",
     "output_type": "stream",
     "text": [
      "              precision    recall  f1-score   support\n",
      "\n",
      "           0       0.72      0.85      0.78        33\n",
      "           1       0.44      0.27      0.33        15\n",
      "           2       1.00      1.00      1.00        14\n",
      "\n",
      "    accuracy                           0.74        62\n",
      "   macro avg       0.72      0.71      0.70        62\n",
      "weighted avg       0.72      0.74      0.72        62\n",
      "\n"
     ]
    }
   ],
   "source": [
    "reports = classification_report(y_test, pr)\n",
    "print(reports)"
   ]
  },
  {
   "cell_type": "markdown",
   "id": "a1b0b872",
   "metadata": {},
   "source": [
    "## Comparing The Model"
   ]
  },
  {
   "cell_type": "code",
   "execution_count": 76,
   "id": "dd14c4d5",
   "metadata": {},
   "outputs": [
    {
     "data": {
      "image/png": "[encoded data removed]",
      "text/plain": [
       "<Figure size 1440x720 with 1 Axes>"
      ]
     },
     "metadata": {
      "needs_background": "light"
     },
     "output_type": "display_data"
    }
   ],
   "source": [
    "ax = plt.subplot(111)\n",
    "\n",
    "models = ['LogisticsRegression', 'Decision Tree(Entropy)','Decision Tree(Gini)','Decision Tree(Using GridSearch)', 'Random Forest','Random Forest(Using GridSearch)', 'XGBoost', 'XGBoost(Using GridSearch)']\n",
    "\n",
    "values = [lm_ar,dt,dt_model_ar, dtt_model_ar,rf_model_ar, rf_grid_model_ar,xg_ar, xgb_mod_ar]\n",
    "\n",
    "model = np.arange(len(models))\n",
    "\n",
    "plt.bar(model, values, align= 'center', width= 0.15, alpha= 0.7, color= 'red', label= 'accuracy')\n",
    "plt.xticks(model, models)\n",
    "\n",
    "plt.ylabel('Perfomance Metrics for Different Models')\n",
    "plt.title('Model')\n",
    "\n",
    "ax.spines['right'].set_visible(False)\n",
    "ax.spines['top'].set_visible(False)\n",
    "ax.legend()\n",
    "\n",
    "plt.show()"
   ]
  },
  {
   "cell_type": "code",
   "execution_count": null,
   "id": "a7ab35a2",
   "metadata": {},
   "outputs": [],
   "source": [
    "# After comparing the models with their accuracy score in the above plot we can see that Random Forest(Using GridSearch) has\n",
    "# the best accuracy score compare to other models"
   ]
  },
  {
   "cell_type": "markdown",
   "id": "38dab3fc",
   "metadata": {},
   "source": [
    "## Plotting the Important Features"
   ]
  },
  {
   "cell_type": "code",
   "execution_count": 77,
   "id": "314e344f",
   "metadata": {},
   "outputs": [
    {
     "data": {
      "image/png": "[encoded data removed]",
      "text/plain": [
       "<Figure size 1440x720 with 1 Axes>"
      ]
     },
     "metadata": {
      "needs_background": "light"
     },
     "output_type": "display_data"
    }
   ],
   "source": [
    "important_features = pd.DataFrame({'Features': X_train.columns,\n",
    "                                   'Importance': rf_grid_model.best_estimator_.feature_importances_})\n",
    "\n",
    "important_features = important_features.sort_values('Importance', ascending= False)\n",
    "\n",
    "sns.barplot(x='Importance',y='Features',data=important_features)\n",
    "\n",
    "plt.title('Feature_Importance',fontsize=15)\n",
    "plt.xlabel('Importance',fontsize=15)\n",
    "plt.ylabel('Features',fontsize=15)\n",
    "\n",
    "plt.show()"
   ]
  },
  {
   "cell_type": "code",
   "execution_count": null,
   "id": "3f0fbeba",
   "metadata": {},
   "outputs": [],
   "source": [
    "# From the above plot we can see that the feature affecting the most is the final price of the players after they get sold"
   ]
  },
  {
   "cell_type": "markdown",
   "id": "1bea4ea7",
   "metadata": {},
   "source": [
    "### 1. Final Price (in lacs)"
   ]
  },
  {
   "cell_type": "code",
   "execution_count": 78,
   "id": "49becc1d",
   "metadata": {},
   "outputs": [
    {
     "data": {
      "image/png": "[encoded data removed]",
      "text/plain": [
       "<Figure size 1440x720 with 1 Axes>"
      ]
     },
     "metadata": {
      "needs_background": "light"
     },
     "output_type": "display_data"
    }
   ],
   "source": [
    "sns.boxplot(x= 'status', y= 'final price (in lacs)', data= df_ipl)\n",
    "\n",
    "plt.title('Compare the status and final price', fontsize= 15)\n",
    "\n",
    "plt.show()"
   ]
  },
  {
   "cell_type": "markdown",
   "id": "59b2e630",
   "metadata": {},
   "source": [
    "After the auction the retained players which is (0) has the highest final price"
   ]
  },
  {
   "cell_type": "code",
   "execution_count": null,
   "id": "cd128403",
   "metadata": {},
   "outputs": [],
   "source": []
  }
 ],
 "metadata": {
  "kernelspec": {
   "display_name": "Python 3 (ipykernel)",
   "language": "python",
   "name": "python3"
  },
  "language_info": {
   "codemirror_mode": {
    "name": "ipython",
    "version": 3
   },
   "file_extension": ".py",
   "mimetype": "text/x-python",
   "name": "python",
   "nbconvert_exporter": "python",
   "pygments_lexer": "ipython3",
   "version": "3.9.12"
  }
 },
 "nbformat": 4,
 "nbformat_minor": 5
}
